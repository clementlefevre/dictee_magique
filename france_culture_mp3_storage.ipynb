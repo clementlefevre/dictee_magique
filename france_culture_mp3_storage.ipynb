{
  "nbformat": 4,
  "nbformat_minor": 0,
  "metadata": {
    "colab": {
      "name": "france_culture_mp3_storage.ipynb",
      "version": "0.3.2",
      "provenance": [],
      "collapsed_sections": [],
      "toc_visible": true,
      "include_colab_link": true
    },
    "kernelspec": {
      "name": "python3",
      "display_name": "Python 3"
    }
  },
  "cells": [
    {
      "cell_type": "markdown",
      "metadata": {
        "id": "view-in-github",
        "colab_type": "text"
      },
      "source": [
        "<a href=\"https://colab.research.google.com/github/clementlefevre/dictee_magique/blob/master/france_culture_mp3_storage.ipynb\" target=\"_parent\"><img src=\"https://colab.research.google.com/assets/colab-badge.svg\" alt=\"Open In Colab\"/></a>"
      ]
    },
    {
      "cell_type": "code",
      "metadata": {
        "id": "mpIaH_gyFB9v",
        "colab_type": "code",
        "outputId": "6126e240-cab9-4d44-e40a-fc68dee0fbf1",
        "colab": {
          "base_uri": "https://localhost:8080/",
          "height": 564
        }
      },
      "source": [
        "!pip install pydub\n",
        "!pip install google-cloud-speech\n",
        "import pandas as pd\n",
        "import multiprocessing as mp\n",
        "import os\n",
        "import requests\n",
        "import shutil\n",
        "from pydub import AudioSegment\n",
        "from google.cloud import storage\n",
        "from google.cloud import speech_v1p1beta1 as speech\n",
        "\n",
        "#from google.cloud.speech import enums\n",
        "#from google.cloud.speech import types\n",
        "\n",
        "from google.cloud.speech_v1p1beta1 import enums\n",
        "from google.cloud.speech_v1p1beta1 import types\n",
        "\n",
        "\n",
        "from random import randint\n",
        "import time\n",
        "import wave"
      ],
      "execution_count": 0,
      "outputs": [
        {
          "output_type": "stream",
          "text": [
            "Collecting pydub\n",
            "  Downloading https://files.pythonhosted.org/packages/79/db/eaf620b73a1eec3c8c6f8f5b0b236a50f9da88ad57802154b7ba7664d0b8/pydub-0.23.1-py2.py3-none-any.whl\n",
            "Installing collected packages: pydub\n",
            "Successfully installed pydub-0.23.1\n",
            "Collecting google-cloud-speech\n",
            "\u001b[?25l  Downloading https://files.pythonhosted.org/packages/84/ec/19bf96b478a9e1dcd26a7ef8fda219666e6f1fb29f4cf03d1b29c47163c6/google_cloud_speech-1.1.0-py2.py3-none-any.whl (84kB)\n",
            "\u001b[K     |████████████████████████████████| 92kB 5.7MB/s \n",
            "\u001b[?25hRequirement already satisfied: google-api-core[grpc]<2.0.0dev,>=1.6.0 in /usr/local/lib/python3.6/dist-packages (from google-cloud-speech) (1.13.0)\n",
            "Requirement already satisfied: six>=1.10.0 in /usr/local/lib/python3.6/dist-packages (from google-api-core[grpc]<2.0.0dev,>=1.6.0->google-cloud-speech) (1.12.0)\n",
            "Requirement already satisfied: protobuf>=3.4.0 in /usr/local/lib/python3.6/dist-packages (from google-api-core[grpc]<2.0.0dev,>=1.6.0->google-cloud-speech) (3.7.1)\n",
            "Requirement already satisfied: pytz in /usr/local/lib/python3.6/dist-packages (from google-api-core[grpc]<2.0.0dev,>=1.6.0->google-cloud-speech) (2018.9)\n",
            "Requirement already satisfied: googleapis-common-protos!=1.5.4,<2.0dev,>=1.5.3 in /usr/local/lib/python3.6/dist-packages (from google-api-core[grpc]<2.0.0dev,>=1.6.0->google-cloud-speech) (1.6.0)\n",
            "Requirement already satisfied: requests<3.0.0dev,>=2.18.0 in /usr/local/lib/python3.6/dist-packages (from google-api-core[grpc]<2.0.0dev,>=1.6.0->google-cloud-speech) (2.21.0)\n",
            "Requirement already satisfied: setuptools>=34.0.0 in /usr/local/lib/python3.6/dist-packages (from google-api-core[grpc]<2.0.0dev,>=1.6.0->google-cloud-speech) (41.0.1)\n",
            "Requirement already satisfied: google-auth<2.0dev,>=0.4.0 in /usr/local/lib/python3.6/dist-packages (from google-api-core[grpc]<2.0.0dev,>=1.6.0->google-cloud-speech) (1.4.2)\n",
            "Requirement already satisfied: grpcio<2.0dev,>=1.8.2; extra == \"grpc\" in /usr/local/lib/python3.6/dist-packages (from google-api-core[grpc]<2.0.0dev,>=1.6.0->google-cloud-speech) (1.15.0)\n",
            "Requirement already satisfied: urllib3<1.25,>=1.21.1 in /usr/local/lib/python3.6/dist-packages (from requests<3.0.0dev,>=2.18.0->google-api-core[grpc]<2.0.0dev,>=1.6.0->google-cloud-speech) (1.24.3)\n",
            "Requirement already satisfied: chardet<3.1.0,>=3.0.2 in /usr/local/lib/python3.6/dist-packages (from requests<3.0.0dev,>=2.18.0->google-api-core[grpc]<2.0.0dev,>=1.6.0->google-cloud-speech) (3.0.4)\n",
            "Requirement already satisfied: idna<2.9,>=2.5 in /usr/local/lib/python3.6/dist-packages (from requests<3.0.0dev,>=2.18.0->google-api-core[grpc]<2.0.0dev,>=1.6.0->google-cloud-speech) (2.8)\n",
            "Requirement already satisfied: certifi>=2017.4.17 in /usr/local/lib/python3.6/dist-packages (from requests<3.0.0dev,>=2.18.0->google-api-core[grpc]<2.0.0dev,>=1.6.0->google-cloud-speech) (2019.6.16)\n",
            "Requirement already satisfied: pyasn1-modules>=0.2.1 in /usr/local/lib/python3.6/dist-packages (from google-auth<2.0dev,>=0.4.0->google-api-core[grpc]<2.0.0dev,>=1.6.0->google-cloud-speech) (0.2.5)\n",
            "Requirement already satisfied: cachetools>=2.0.0 in /usr/local/lib/python3.6/dist-packages (from google-auth<2.0dev,>=0.4.0->google-api-core[grpc]<2.0.0dev,>=1.6.0->google-cloud-speech) (3.1.1)\n",
            "Requirement already satisfied: rsa>=3.1.4 in /usr/local/lib/python3.6/dist-packages (from google-auth<2.0dev,>=0.4.0->google-api-core[grpc]<2.0.0dev,>=1.6.0->google-cloud-speech) (4.0)\n",
            "Requirement already satisfied: pyasn1<0.5.0,>=0.4.1 in /usr/local/lib/python3.6/dist-packages (from pyasn1-modules>=0.2.1->google-auth<2.0dev,>=0.4.0->google-api-core[grpc]<2.0.0dev,>=1.6.0->google-cloud-speech) (0.4.5)\n",
            "Installing collected packages: google-cloud-speech\n",
            "Successfully installed google-cloud-speech-1.1.0\n"
          ],
          "name": "stdout"
        },
        {
          "output_type": "display_data",
          "data": {
            "application/vnd.colab-display-data+json": {
              "pip_warning": {
                "packages": [
                  "google"
                ]
              }
            }
          },
          "metadata": {
            "tags": []
          }
        }
      ]
    },
    {
      "cell_type": "code",
      "metadata": {
        "id": "4Ltpz4ZHGBRP",
        "colab_type": "code",
        "outputId": "a712c69a-71ca-4634-bffa-0f2f67b2e578",
        "colab": {
          "base_uri": "https://localhost:8080/",
          "height": 122
        }
      },
      "source": [
        "from google.colab import drive\n",
        "drive.mount('/content/drive')"
      ],
      "execution_count": 0,
      "outputs": [
        {
          "output_type": "stream",
          "text": [
            "Go to this URL in a browser: https://accounts.google.com/o/oauth2/auth?client_id=947318989803-6bn6qk8qdgf4n4g3pfee6491hc0brc4i.apps.googleusercontent.com&redirect_uri=urn%3Aietf%3Awg%3Aoauth%3A2.0%3Aoob&scope=email%20https%3A%2F%2Fwww.googleapis.com%2Fauth%2Fdocs.test%20https%3A%2F%2Fwww.googleapis.com%2Fauth%2Fdrive%20https%3A%2F%2Fwww.googleapis.com%2Fauth%2Fdrive.photos.readonly%20https%3A%2F%2Fwww.googleapis.com%2Fauth%2Fpeopleapi.readonly&response_type=code\n",
            "\n",
            "Enter your authorization code:\n",
            "··········\n",
            "Mounted at /content/drive\n"
          ],
          "name": "stdout"
        }
      ]
    },
    {
      "cell_type": "code",
      "metadata": {
        "id": "FvJOS6T4VBpF",
        "colab_type": "code",
        "colab": {}
      },
      "source": [
        "os.environ['GOOGLE_APPLICATION_CREDENTIALS'] = 'google_text_to_speech_key.json'\n",
        "BUCKET_MP3 = \"bucket_france_culture_mp3\"\n",
        "BUCKET_WAV = \"bucket_france_culture_wav\"\n",
        "BUCKET_TXT = \"bucket_france_culture_txt\""
      ],
      "execution_count": 0,
      "outputs": []
    },
    {
      "cell_type": "markdown",
      "metadata": {
        "id": "GyNJEahh1StX",
        "colab_type": "text"
      },
      "source": [
        "## Load list of MP3"
      ]
    },
    {
      "cell_type": "code",
      "metadata": {
        "id": "JIhIZcEDFa76",
        "colab_type": "code",
        "outputId": "cb5e21ca-6c68-4366-c537-9823f1546861",
        "colab": {
          "base_uri": "https://localhost:8080/",
          "height": 547
        }
      },
      "source": [
        "df = pd.read_csv('/content/drive/My Drive/france_culture_repo/all_podcasts.csv')\n",
        "df['mp3_filename'] =df['data-asset-source'].str.split('\\/').str[-1]\n",
        "df['date_time']=pd.to_datetime(df['data-asset-created-date'],unit='s')\n",
        "df = df[~df.mp3_filename.isnull()]\n",
        "df = df.sort_values(by='date_time',ascending=True)\n",
        "df = df.drop_duplicates(['data-asset-source'])\n",
        "df.head()"
      ],
      "execution_count": 0,
      "outputs": [
        {
          "output_type": "execute_result",
          "data": {
            "text/html": [
              "<div>\n",
              "<style scoped>\n",
              "    .dataframe tbody tr th:only-of-type {\n",
              "        vertical-align: middle;\n",
              "    }\n",
              "\n",
              "    .dataframe tbody tr th {\n",
              "        vertical-align: top;\n",
              "    }\n",
              "\n",
              "    .dataframe thead th {\n",
              "        text-align: right;\n",
              "    }\n",
              "</style>\n",
              "<table border=\"1\" class=\"dataframe\">\n",
              "  <thead>\n",
              "    <tr style=\"text-align: right;\">\n",
              "      <th></th>\n",
              "      <th>Unnamed: 0</th>\n",
              "      <th>index</th>\n",
              "      <th>Unnamed: 0.1</th>\n",
              "      <th>aria-label</th>\n",
              "      <th>class</th>\n",
              "      <th>data-asset-created-date</th>\n",
              "      <th>data-asset-source</th>\n",
              "      <th>data-asset-surtitle</th>\n",
              "      <th>data-asset-title</th>\n",
              "      <th>data-btn-type</th>\n",
              "      <th>data-business-reference</th>\n",
              "      <th>data-clip-type</th>\n",
              "      <th>data-concept-id</th>\n",
              "      <th>data-diffusion-id</th>\n",
              "      <th>data-duration</th>\n",
              "      <th>data-expression-id</th>\n",
              "      <th>data-media-id</th>\n",
              "      <th>data-network-change</th>\n",
              "      <th>data-short-id</th>\n",
              "      <th>data-surtitle-link</th>\n",
              "      <th>data-timeshift</th>\n",
              "      <th>data-title-link</th>\n",
              "      <th>data-universe-title</th>\n",
              "      <th>disabled</th>\n",
              "      <th>title</th>\n",
              "      <th>mp3_filename</th>\n",
              "      <th>date_time</th>\n",
              "    </tr>\n",
              "  </thead>\n",
              "  <tbody>\n",
              "    <tr>\n",
              "      <th>1963</th>\n",
              "      <td>1963</td>\n",
              "      <td>448</td>\n",
              "      <td>13</td>\n",
              "      <td>Lecture du replay</td>\n",
              "      <td>replay-button paused aod</td>\n",
              "      <td>1.272071e+09</td>\n",
              "      <td>https://s3-eu-west-1.amazonaws.com/cruiser-pro...</td>\n",
              "      <td>Les Chemins de la philosophie</td>\n",
              "      <td>redif. correspondance n°04</td>\n",
              "      <td>aod</td>\n",
              "      <td>12410</td>\n",
              "      <td>reecoute</td>\n",
              "      <td>2fae969a-3f60-11e5-8314-005056a87c89</td>\n",
              "      <td>NaN</td>\n",
              "      <td>3532.0</td>\n",
              "      <td>89cd36ea-a0d7-102d-9c2c-fcfcfc001444</td>\n",
              "      <td>89cd36ea-a0d7-102d-9c2c-fcfcfc001444</td>\n",
              "      <td>NaN</td>\n",
              "      <td>284cc18a</td>\n",
              "      <td>/emissions/les-chemins-de-la-philosophie</td>\n",
              "      <td>NaN</td>\n",
              "      <td>/emissions/les-nouveaux-chemins-de-la-connaiss...</td>\n",
              "      <td>NaN</td>\n",
              "      <td>NaN</td>\n",
              "      <td>Réécouter redif. correspondance n°04</td>\n",
              "      <td>RF_F0D62E25-23FD-4D2C-BA80-1E977E0C126F_GENE.MP3</td>\n",
              "      <td>2010-04-24 01:07:00</td>\n",
              "    </tr>\n",
              "    <tr>\n",
              "      <th>1954</th>\n",
              "      <td>1954</td>\n",
              "      <td>439</td>\n",
              "      <td>4</td>\n",
              "      <td>Lecture du replay</td>\n",
              "      <td>replay-button paused aod</td>\n",
              "      <td>1.273219e+09</td>\n",
              "      <td>https://s3-eu-west-1.amazonaws.com/cruiser-pro...</td>\n",
              "      <td>Les Chemins de la philosophie</td>\n",
              "      <td>Islam 5/5 : Interprétation séculière du Coran</td>\n",
              "      <td>aod</td>\n",
              "      <td>12410</td>\n",
              "      <td>reecoute</td>\n",
              "      <td>2fae969a-3f60-11e5-8314-005056a87c89</td>\n",
              "      <td>NaN</td>\n",
              "      <td>3515.0</td>\n",
              "      <td>38529ebe-a360-102d-b821-00163ed90aa0</td>\n",
              "      <td>38529ebe-a360-102d-b821-00163ed90aa0</td>\n",
              "      <td>NaN</td>\n",
              "      <td>3151ef7f</td>\n",
              "      <td>/emissions/les-chemins-de-la-philosophie</td>\n",
              "      <td>NaN</td>\n",
              "      <td>/emissions/les-nouveaux-chemins-de-la-connaiss...</td>\n",
              "      <td>savoirs</td>\n",
              "      <td>NaN</td>\n",
              "      <td>Réécouter Islam 5/5 : Interprétation séculière...</td>\n",
              "      <td>NOUVEAUX_CHEMINS_DE_LA_CONNAISSANCE_07_05_2010...</td>\n",
              "      <td>2010-05-07 08:00:00</td>\n",
              "    </tr>\n",
              "    <tr>\n",
              "      <th>1953</th>\n",
              "      <td>1953</td>\n",
              "      <td>438</td>\n",
              "      <td>3</td>\n",
              "      <td>Lecture du replay</td>\n",
              "      <td>replay-button paused aod</td>\n",
              "      <td>1.294650e+09</td>\n",
              "      <td>https://s3-eu-west-1.amazonaws.com/cruiser-pro...</td>\n",
              "      <td>Les Chemins de la philosophie</td>\n",
              "      <td>Les origines 1/5 : Le destin de l'univers</td>\n",
              "      <td>aod</td>\n",
              "      <td>12410</td>\n",
              "      <td>reecoute</td>\n",
              "      <td>2fae969a-3f60-11e5-8314-005056a87c89</td>\n",
              "      <td>NaN</td>\n",
              "      <td>3538.0</td>\n",
              "      <td>b1c8e108-6bc0-102e-80a0-fcfcfc001444</td>\n",
              "      <td>b1c8e108-6bc0-102e-80a0-fcfcfc001444</td>\n",
              "      <td>NaN</td>\n",
              "      <td>327831fc</td>\n",
              "      <td>/emissions/les-chemins-de-la-philosophie</td>\n",
              "      <td>NaN</td>\n",
              "      <td>/emissions/les-nouveaux-chemins-de-la-connaiss...</td>\n",
              "      <td>savoirs</td>\n",
              "      <td>NaN</td>\n",
              "      <td>Réécouter Les origines 1/5 : Le destin de l'un...</td>\n",
              "      <td>Les_nouveaux_chemins_de_la_connaissance--Franc...</td>\n",
              "      <td>2011-01-10 09:00:00</td>\n",
              "    </tr>\n",
              "    <tr>\n",
              "      <th>1952</th>\n",
              "      <td>1952</td>\n",
              "      <td>437</td>\n",
              "      <td>2</td>\n",
              "      <td>Lecture du replay</td>\n",
              "      <td>replay-button paused aod</td>\n",
              "      <td>1.294736e+09</td>\n",
              "      <td>https://s3-eu-west-1.amazonaws.com/cruiser-pro...</td>\n",
              "      <td>Les Chemins de la philosophie</td>\n",
              "      <td>Les Origines 2/5 : Au commencement était le Verbe</td>\n",
              "      <td>aod</td>\n",
              "      <td>12410</td>\n",
              "      <td>reecoute</td>\n",
              "      <td>2fae969a-3f60-11e5-8314-005056a87c89</td>\n",
              "      <td>NaN</td>\n",
              "      <td>3504.0</td>\n",
              "      <td>a5e9da56-6bc8-102e-80a0-fcfcfc001444</td>\n",
              "      <td>a5e9da56-6bc8-102e-80a0-fcfcfc001444</td>\n",
              "      <td>NaN</td>\n",
              "      <td>49f97bbb</td>\n",
              "      <td>/emissions/les-chemins-de-la-philosophie</td>\n",
              "      <td>NaN</td>\n",
              "      <td>/emissions/les-nouveaux-chemins-de-la-connaiss...</td>\n",
              "      <td>savoirs</td>\n",
              "      <td>NaN</td>\n",
              "      <td>Réécouter Les Origines 2/5 : Au commencement é...</td>\n",
              "      <td>les_nouveaux_chemins--11_01--NET_f85ebf8b-bf2b...</td>\n",
              "      <td>2011-01-11 09:00:00</td>\n",
              "    </tr>\n",
              "    <tr>\n",
              "      <th>1951</th>\n",
              "      <td>1951</td>\n",
              "      <td>436</td>\n",
              "      <td>1</td>\n",
              "      <td>Lecture du replay</td>\n",
              "      <td>replay-button paused aod</td>\n",
              "      <td>1.294823e+09</td>\n",
              "      <td>https://s3-eu-west-1.amazonaws.com/cruiser-pro...</td>\n",
              "      <td>Les Chemins de la philosophie</td>\n",
              "      <td>Les Origines 3/5 : L'origine de l'univers</td>\n",
              "      <td>aod</td>\n",
              "      <td>12410</td>\n",
              "      <td>reecoute</td>\n",
              "      <td>2fae969a-3f60-11e5-8314-005056a87c89</td>\n",
              "      <td>NaN</td>\n",
              "      <td>3568.0</td>\n",
              "      <td>97f9cf96-6bd7-102e-80a0-fcfcfc001444</td>\n",
              "      <td>97f9cf96-6bd7-102e-80a0-fcfcfc001444</td>\n",
              "      <td>NaN</td>\n",
              "      <td>72abcfc4</td>\n",
              "      <td>/emissions/les-chemins-de-la-philosophie</td>\n",
              "      <td>NaN</td>\n",
              "      <td>/emissions/les-nouveaux-chemins-de-la-connaiss...</td>\n",
              "      <td>savoirs</td>\n",
              "      <td>NaN</td>\n",
              "      <td>Réécouter Les Origines 3/5 : L'origine de l'un...</td>\n",
              "      <td>Les_nouveaux_chemins_de_la_connaissance--Franc...</td>\n",
              "      <td>2011-01-12 09:00:00</td>\n",
              "    </tr>\n",
              "  </tbody>\n",
              "</table>\n",
              "</div>"
            ],
            "text/plain": [
              "      Unnamed: 0  ...           date_time\n",
              "1963        1963  ... 2010-04-24 01:07:00\n",
              "1954        1954  ... 2010-05-07 08:00:00\n",
              "1953        1953  ... 2011-01-10 09:00:00\n",
              "1952        1952  ... 2011-01-11 09:00:00\n",
              "1951        1951  ... 2011-01-12 09:00:00\n",
              "\n",
              "[5 rows x 27 columns]"
            ]
          },
          "metadata": {
            "tags": []
          },
          "execution_count": 5
        }
      ]
    },
    {
      "cell_type": "markdown",
      "metadata": {
        "id": "d7kSG0pV1XC4",
        "colab_type": "text"
      },
      "source": [
        "## Download mp3 to google storage"
      ]
    },
    {
      "cell_type": "code",
      "metadata": {
        "id": "nRnyoibwFpmd",
        "colab_type": "code",
        "colab": {}
      },
      "source": [
        "def dl_mp3(file_url,file_name):\n",
        "  r = requests.get(file_url, stream=True)\n",
        "  if r.status_code == 200:\n",
        "      with open(file_name, 'wb') as f:\n",
        "          r.raw.decode_content = True\n",
        "          shutil.copyfileobj(r.raw, f)\n",
        "          \n",
        "def list_blobs(bucket_name):\n",
        "    \"\"\"Lists all the blobs in the bucket.\"\"\"\n",
        "    storage_client = storage.Client()\n",
        "    bucket = storage_client.get_bucket(bucket_name)\n",
        "    list_files =  [f.name for f in bucket.list_blobs()]\n",
        "    return list_files\n",
        "\n",
        "          \n",
        "def upload_blob(bucket_name, filename):\n",
        "    \"\"\"Uploads a file to the bucket.\"\"\"\n",
        "    storage_client = storage.Client()\n",
        "    bucket = storage_client.get_bucket(bucket_name)\n",
        "    blob = bucket.blob(filename)\n",
        "\n",
        "    blob.upload_from_filename(filename)\n",
        "    os.remove(filename)\n",
        "    \n",
        "def delete_blob(bucket_name, blob_name):\n",
        "    \"\"\"Deletes a blob from the bucket.\"\"\"\n",
        "    storage_client = storage.Client()\n",
        "    bucket = storage_client.get_bucket(bucket_name)\n",
        "    blob = bucket.blob(blob_name)\n",
        "\n",
        "    blob.delete()\n",
        "    \n",
        "    \n",
        "def get_mp3_backlog(df):\n",
        "  already_stored_mp3_list = set(list_blobs(BUCKET_MP3))\n",
        "  print(f'in storage : {len(already_stored_mp3_list)} files')\n",
        "  print(f'overall mp3 list : {len(set(df.mp3_filename))}')\n",
        "  mp3_to_store = set(df.mp3_filename)-already_stored_mp3_list\n",
        "  print(f'still to be downloaded : {len(mp3_to_store)}')\n",
        "  df_to_store = df[df.mp3_filename.isin(mp3_to_store)]\n",
        "  return df_to_store\n",
        "  \n",
        "def upload_backlog_mp3(df):\n",
        "  df_backlog = get_mp3_backlog(df)\n",
        "  \n",
        "  for index, row in df_backlog.iterrows():\n",
        "    try:\n",
        "      dl_mp3(row['data-asset-source'],row['mp3_filename'])\n",
        "      upload_blob(BUCKET_MP3,row['mp3_filename'])\n",
        "      time.sleep(1+randint(1,5))\n",
        "    except Exception as e:\n",
        "      print(f'error for  {row[\"mp3_filename\"]}')\n",
        "      print(e)\n",
        "    "
      ],
      "execution_count": 0,
      "outputs": []
    },
    {
      "cell_type": "code",
      "metadata": {
        "id": "74iq93WSUNee",
        "colab_type": "code",
        "outputId": "c4565039-aa47-4f1e-87a5-2f5cda258154",
        "colab": {
          "base_uri": "https://localhost:8080/",
          "height": 360
        }
      },
      "source": [
        "upload_backlog_mp3(df)"
      ],
      "execution_count": 0,
      "outputs": [
        {
          "output_type": "stream",
          "text": [
            "in storage : 1898 files\n",
            "overall mp3 list : 1906\n",
            "still to be downloaded : 8\n",
            "error for  ACTUALITE_PHILOSOPHIQUE___COMMENT_PARLER_D_ESTHETIQUE_AUJOURD_HUI__.NET_FC_FF60BEEB-5868-4FE8-B30C-6E18155856FE.MP3\n",
            "HTTPConnectionPool(host='static.franceculture.fr', port=80): Max retries exceeded with url: /sites/default/files/ACTUALITE_PHILOSOPHIQUE___COMMENT_PARLER_D_ESTHETIQUE_AUJOURD_HUI__.NET_FC_FF60BEEB-5868-4FE8-B30C-6E18155856FE.MP3 (Caused by NewConnectionError('<urllib3.connection.HTTPConnection object at 0x7eff85082828>: Failed to establish a new connection: [Errno 110] Connection timed out',))\n",
            "error for  LES_NOUVEAUX_CHEMINS_DE_LA_CONNAISSANCE.NET_FC_6AA7909C-9255-444E-A642-E6073D2063B2.MP3\n",
            "HTTPConnectionPool(host='static.franceculture.fr', port=80): Max retries exceeded with url: /sites/default/files/LES_NOUVEAUX_CHEMINS_DE_LA_CONNAISSANCE.NET_FC_6AA7909C-9255-444E-A642-E6073D2063B2.MP3 (Caused by NewConnectionError('<urllib3.connection.HTTPConnection object at 0x7eff84ff5ba8>: Failed to establish a new connection: [Errno 110] Connection timed out',))\n",
            "error for  LES_NOUVEAUX_CHEMINS_DE_LA_CONNAISSANCE.NET_FC_9822AE1C-FE58-4E86-A009-E1F8044506AA.MP3\n",
            "HTTPConnectionPool(host='static.franceculture.fr', port=80): Max retries exceeded with url: /sites/default/files/LES_NOUVEAUX_CHEMINS_DE_LA_CONNAISSANCE.NET_FC_9822AE1C-FE58-4E86-A009-E1F8044506AA.MP3 (Caused by NewConnectionError('<urllib3.connection.HTTPConnection object at 0x7eff84fde128>: Failed to establish a new connection: [Errno 110] Connection timed out',))\n",
            "error for  L%E2%80%99ANNEE_2014_VUE_PAR_LA_PHILOSOPHIE_%281_5%29___REMI_FRAISSE___FAUT-IL_MOURIR_POUR_SAUVER_LA_NATURE__.NET_FC_6591EE6E-34F4-480E-B080-D94A5E7351A2.MP3\n",
            "HTTPConnectionPool(host='static.franceculture.fr', port=80): Max retries exceeded with url: /sites/default/files/L%E2%80%99ANNEE_2014_VUE_PAR_LA_PHILOSOPHIE_%281_5%29___REMI_FRAISSE___FAUT-IL_MOURIR_POUR_SAUVER_LA_NATURE__.NET_FC_6591EE6E-34F4-480E-B080-D94A5E7351A2.MP3 (Caused by NewConnectionError('<urllib3.connection.HTTPConnection object at 0x7eff85076c50>: Failed to establish a new connection: [Errno 110] Connection timed out',))\n",
            "error for  L%E2%80%99ANNEE_2014_VUE_PAR_LA_PHILOSOPHIE_%282_5%29___APRES_%C2%AB_CHARLIE_%C2%BB%2C_QUE_PEUVENT_LES_PHILOSOPHES__.NET_FC_E3DCC164-862C-42D9-9EA8-6A2A211B37AF.MP3\n",
            "HTTPConnectionPool(host='static.franceculture.fr', port=80): Max retries exceeded with url: /sites/default/files/L%E2%80%99ANNEE_2014_VUE_PAR_LA_PHILOSOPHIE_%282_5%29___APRES_%C2%AB_CHARLIE_%C2%BB%2C_QUE_PEUVENT_LES_PHILOSOPHES__.NET_FC_E3DCC164-862C-42D9-9EA8-6A2A211B37AF.MP3 (Caused by NewConnectionError('<urllib3.connection.HTTPConnection object at 0x7eff85076d68>: Failed to establish a new connection: [Errno 110] Connection timed out',))\n",
            "error for  LES_NOUVEAUX_CHEMINS_DE_LA_CONNAISSANCE.NET_FC_9D87BED0-61B8-4F00-B816-0E09A89024AA.MP3\n",
            "HTTPConnectionPool(host='static.franceculture.fr', port=80): Max retries exceeded with url: /sites/default/files/LES_NOUVEAUX_CHEMINS_DE_LA_CONNAISSANCE.NET_FC_9D87BED0-61B8-4F00-B816-0E09A89024AA.MP3 (Caused by NewConnectionError('<urllib3.connection.HTTPConnection object at 0x7eff84fbdb00>: Failed to establish a new connection: [Errno 110] Connection timed out',))\n",
            "error for  cheminsok01062015.mp3\n",
            "HTTPConnectionPool(host='static.franceculture.fr', port=80): Max retries exceeded with url: /sites/default/files/cheminsok01062015.mp3 (Caused by NewConnectionError('<urllib3.connection.HTTPConnection object at 0x7eff850766a0>: Failed to establish a new connection: [Errno 110] Connection timed out',))\n",
            "error for  LES_NOUVEAUX_CHEMINS_DE_LA_CONNAISSANCE.NET_FC_E0A338B0-F5F1-4D0D-B32D-8DDB3DD4607F.mp3\n",
            "HTTPConnectionPool(host='static.franceculture.fr', port=80): Max retries exceeded with url: /sites/default/files/LES_NOUVEAUX_CHEMINS_DE_LA_CONNAISSANCE.NET_FC_E0A338B0-F5F1-4D0D-B32D-8DDB3DD4607F.mp3 (Caused by NewConnectionError('<urllib3.connection.HTTPConnection object at 0x7eff84fde240>: Failed to establish a new connection: [Errno 110] Connection timed out',))\n"
          ],
          "name": "stdout"
        }
      ]
    },
    {
      "cell_type": "markdown",
      "metadata": {
        "id": "yRMiXvds1J6i",
        "colab_type": "text"
      },
      "source": [
        "## Convert mp3 to wav in google storage"
      ]
    },
    {
      "cell_type": "code",
      "metadata": {
        "id": "yvqabKBx1A_7",
        "colab_type": "code",
        "colab": {}
      },
      "source": [
        "\n",
        "\n",
        "def dl_mp3_to_local(bucketname,mp3_filename):\n",
        "  storage_client = storage.Client()\n",
        "  bucket = storage_client.get_bucket(BUCKET_MP3)\n",
        "  blob = bucket.blob(mp3_filename)\n",
        "  blob.download_to_filename(mp3_filename)\n",
        "\n",
        "def mp3_to_wav(mp3_file_name):\n",
        "    print('converting')\n",
        "    wav_file_name = mp3_file_name.split('.mp3')[0] + '.wav'\n",
        "    exists = os.path.isfile(wav_file_name)\n",
        "    if not exists:\n",
        "      \n",
        "      sound = AudioSegment.from_mp3(mp3_file_name)\n",
        "      print('sound ok')\n",
        "      sound.export(wav_file_name, format=\"wav\")\n",
        "    \n",
        "  \n",
        "def frame_rate_channel(audio_file_name):\n",
        "    with wave.open(audio_file_name, \"rb\") as wave_file:\n",
        "        frame_rate = wave_file.getframerate()\n",
        "        channels = wave_file.getnchannels()\n",
        "        return frame_rate,channels\n",
        "      \n",
        "def stereo_to_mono(audio_file_name):\n",
        "    sound = AudioSegment.from_wav(audio_file_name)\n",
        "    sound = sound.set_channels(1)\n",
        "    sound.export(audio_file_name, format=\"wav\")\n",
        "    \n",
        "    \n",
        "def get_backlog_wav():\n",
        "  \n",
        "  stored_mp3_list = set(list_blobs(BUCKET_MP3))\n",
        "  stored_wav_list = set(list_blobs(BUCKET_WAV))\n",
        "  \n",
        "  filename_mp3 = [os.path.splitext(f)[0] for f in stored_mp3_list]\n",
        "  filename_wav = [os.path.splitext(f)[0] for f in stored_wav_list]\n",
        "  \n",
        "  print(f' mp3 in storage : {len(filename_mp3)} files')\n",
        "  print(f' wav in storage : {len(filename_wav)} files')\n",
        "  \n",
        "  return list(set(filename_mp3)-set(filename_wav))\n",
        "\n",
        "\n",
        "def upload_backlog_wav(f):  \n",
        "    dl_mp3_to_local(BUCKET_MP3,f+'.mp3')\n",
        "    mp3_to_wav(f+'.mp3')\n",
        "    frame_rate, channels = frame_rate_channel(f+'.wav')\n",
        "    \n",
        "    if channels > 1:\n",
        "        stereo_to_mono(f+'.wav')\n",
        "    \n",
        "    upload_blob(BUCKET_WAV, f+'.wav')\n",
        "    os.remove(f+'.mp3')\n",
        "    \n",
        "    \n",
        "def multiprocess_convert_and_upload_to_raw():\n",
        "  backlog_wav = get_backlog_wav()\n",
        "  pool = mp.Pool(processes=4)\n",
        "  pool.map(upload_backlog_wav, backlog_wav)\n",
        "    \n",
        "        \n",
        "  \n",
        "  \n",
        "#multiprocess_convert_and_upload_to_raw()\n",
        "  "
      ],
      "execution_count": 0,
      "outputs": []
    },
    {
      "cell_type": "code",
      "metadata": {
        "id": "jKKnHfMD919I",
        "colab_type": "code",
        "outputId": "8c1328b0-a964-4774-852b-0939c9859255",
        "colab": {
          "base_uri": "https://localhost:8080/",
          "height": 316
        }
      },
      "source": [
        "def delete_mp3_in_local_folder():\n",
        "  for file_name in os.listdir():\n",
        "    #4\n",
        "    if file_name.lower().endswith('.mp3'):\n",
        "        #5\n",
        "        os.remove(file_name)\n",
        "        \n",
        "delete_mp3_in_local_folder()"
      ],
      "execution_count": 0,
      "outputs": [
        {
          "output_type": "error",
          "ename": "NameError",
          "evalue": "ignored",
          "traceback": [
            "\u001b[0;31m---------------------------------------------------------------------------\u001b[0m",
            "\u001b[0;31mNameError\u001b[0m                                 Traceback (most recent call last)",
            "\u001b[0;32m<ipython-input-1-1058012e8eb1>\u001b[0m in \u001b[0;36m<module>\u001b[0;34m()\u001b[0m\n\u001b[1;32m      6\u001b[0m         \u001b[0mos\u001b[0m\u001b[0;34m.\u001b[0m\u001b[0mremove\u001b[0m\u001b[0;34m(\u001b[0m\u001b[0mfile_name\u001b[0m\u001b[0;34m)\u001b[0m\u001b[0;34m\u001b[0m\u001b[0;34m\u001b[0m\u001b[0m\n\u001b[1;32m      7\u001b[0m \u001b[0;34m\u001b[0m\u001b[0m\n\u001b[0;32m----> 8\u001b[0;31m \u001b[0mdelete_mp3_in_local_folder\u001b[0m\u001b[0;34m(\u001b[0m\u001b[0;34m)\u001b[0m\u001b[0;34m\u001b[0m\u001b[0;34m\u001b[0m\u001b[0m\n\u001b[0m",
            "\u001b[0;32m<ipython-input-1-1058012e8eb1>\u001b[0m in \u001b[0;36mdelete_mp3_in_local_folder\u001b[0;34m()\u001b[0m\n\u001b[1;32m      1\u001b[0m \u001b[0;32mdef\u001b[0m \u001b[0mdelete_mp3_in_local_folder\u001b[0m\u001b[0;34m(\u001b[0m\u001b[0;34m)\u001b[0m\u001b[0;34m:\u001b[0m\u001b[0;34m\u001b[0m\u001b[0;34m\u001b[0m\u001b[0m\n\u001b[0;32m----> 2\u001b[0;31m   \u001b[0;32mfor\u001b[0m \u001b[0mfile_name\u001b[0m \u001b[0;32min\u001b[0m \u001b[0mos\u001b[0m\u001b[0;34m.\u001b[0m\u001b[0mlistdir\u001b[0m\u001b[0;34m(\u001b[0m\u001b[0;34m)\u001b[0m\u001b[0;34m:\u001b[0m\u001b[0;34m\u001b[0m\u001b[0;34m\u001b[0m\u001b[0m\n\u001b[0m\u001b[1;32m      3\u001b[0m     \u001b[0;31m#4\u001b[0m\u001b[0;34m\u001b[0m\u001b[0;34m\u001b[0m\u001b[0;34m\u001b[0m\u001b[0m\n\u001b[1;32m      4\u001b[0m     \u001b[0;32mif\u001b[0m \u001b[0mfile_name\u001b[0m\u001b[0;34m.\u001b[0m\u001b[0mlower\u001b[0m\u001b[0;34m(\u001b[0m\u001b[0;34m)\u001b[0m\u001b[0;34m.\u001b[0m\u001b[0mendswith\u001b[0m\u001b[0;34m(\u001b[0m\u001b[0;34m'.mp3'\u001b[0m\u001b[0;34m)\u001b[0m\u001b[0;34m:\u001b[0m\u001b[0;34m\u001b[0m\u001b[0;34m\u001b[0m\u001b[0m\n\u001b[1;32m      5\u001b[0m         \u001b[0;31m#5\u001b[0m\u001b[0;34m\u001b[0m\u001b[0;34m\u001b[0m\u001b[0;34m\u001b[0m\u001b[0m\n",
            "\u001b[0;31mNameError\u001b[0m: name 'os' is not defined"
          ]
        }
      ]
    },
    {
      "cell_type": "markdown",
      "metadata": {
        "id": "IUMiMFEuIxez",
        "colab_type": "text"
      },
      "source": [
        "## Transcript to text"
      ]
    },
    {
      "cell_type": "code",
      "metadata": {
        "id": "6KApFzdTHEd4",
        "colab_type": "code",
        "outputId": "6bebd45f-8d40-40e9-efcd-52dada270dea",
        "colab": {
          "base_uri": "https://localhost:8080/",
          "height": 156
        }
      },
      "source": [
        "def get_backlog_txt():\n",
        "  \n",
        "  stored_mp3_list = set(list_blobs(BUCKET_MP3))\n",
        "  stored_txt_list = set(list_blobs(BUCKET_TXT))\n",
        "  \n",
        "  filename_mp3 = [os.path.splitext(f)[0] for f in stored_mp3_list]\n",
        "  filename_txt = [os.path.splitext(f)[0] for f in stored_txt_list]\n",
        "  \n",
        "  print(f' mp3 in storage : {len(filename_mp3)} files')\n",
        "  print(f' txt in storage : {len(filename_txt)} files')\n",
        "  \n",
        "  return list(set(filename_mp3)-set(filename_txt))\n",
        "\n",
        "def transcript_wav_file(wav_filename):\n",
        "    frame_rate, channels = frame_rate_channel(wav_filename)\n",
        "    os.remove(wav_filename)\n",
        "    gcs_uri = f'gs://{BUCKET_WAV}/{wav_filename}'\n",
        "    print(gcs_uri)\n",
        "    transcript = ''\n",
        "    \n",
        "    client = speech.SpeechClient()\n",
        "    audio = types.RecognitionAudio(uri=gcs_uri)\n",
        "\n",
        "    config = types.RecognitionConfig(\n",
        "    encoding=enums.RecognitionConfig.AudioEncoding.LINEAR16,\n",
        "    sample_rate_hertz=frame_rate,\n",
        "    language_code='fr-FR',\n",
        "    enable_speaker_diarization=True,\n",
        "    diarization_speaker_count=2)\n",
        "\n",
        "    # Detects speech in the audio file\n",
        "    operation = client.long_running_recognize(config, audio)\n",
        "    response = operation.result(timeout=10000)\n",
        "    result = response.results[-1]\n",
        "    words_info = result.alternatives[0].words\n",
        "    \n",
        "    tag=1\n",
        "    speaker=\"\"\n",
        "\n",
        "    for word_info in words_info:\n",
        "        if word_info.speaker_tag==tag:\n",
        "            speaker=speaker+\" \"+word_info.word\n",
        "        else:\n",
        "            transcript += \"speaker {}: {}\".format(tag,speaker) + '\\n'\n",
        "            tag=word_info.speaker_tag\n",
        "            speaker=\"\"+word_info.word\n",
        "\n",
        "    transcript += \"speaker {}: {}\".format(tag,speaker)\n",
        "    \n",
        "    #delete_blob(bucket_name, destination_blob_name)\n",
        "    return transcript\n",
        "  \n",
        "def write_transcripts(transcript_filename,transcript):\n",
        "    f= open(transcript_filename,\"w+\")\n",
        "    f.write(transcript)\n",
        "    f.close()\n",
        "    \n",
        "def transcript_and_store(f):\n",
        "  upload_backlog_wav(f)\n",
        "  print('start transcripting..')\n",
        "  transcript = transcript_wav_file(f+'.wav')\n",
        "  print('finished transcripting..')\n",
        "  write_transcripts(f+'.txt',transcript)\n",
        "  upload_blob(BUCKET_TXT, f+'.txt')\n",
        "  delete_blob(BUCKET_WAV, f+'.wav')\n",
        "  \n",
        "  \n",
        "def multiprocess_transcript():\n",
        "  backlog_text = get_backlog_txt()\n",
        "  pool = mp.Pool(processes=4)\n",
        "  pool.map(transcript_and_store, backlog_text)\n",
        "  \n",
        "  \n",
        "#multiprocess_transcript()\n",
        "backlog_text = get_backlog_txt()\n",
        "transcript_and_store(backlog_text[1])"
      ],
      "execution_count": 0,
      "outputs": [
        {
          "output_type": "stream",
          "text": [
            " mp3 in storage : 893 files\n",
            " txt in storage : 0 files\n",
            "converting\n",
            "sound ok\n",
            "start transcripting..\n",
            "gs://bucket_france_culture_wav/Les_nouveaux_chemins_de_la_connaissance--22_05--NET_1f60b6b3-eba8-42d3-8897-91077f14e889_DF.wav\n",
            "finished transcripting..\n"
          ],
          "name": "stdout"
        }
      ]
    }
  ]
}