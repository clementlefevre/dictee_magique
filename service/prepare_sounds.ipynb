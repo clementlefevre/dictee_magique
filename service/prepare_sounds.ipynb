{
 "cells": [
  {
   "cell_type": "code",
   "execution_count": 1,
   "metadata": {},
   "outputs": [
    {
     "name": "stdout",
     "output_type": "stream",
     "text": [
      "pygame 2.0.0.dev0\n",
      "Hello from the pygame community. https://www.pygame.org/contribute.html\n"
     ]
    }
   ],
   "source": [
    "\"\"\"Synthesizes speech from the input string of text or ssml.\n",
    "\n",
    "Note: ssml must be well-formed according to:\n",
    "    https://www.w3.org/TR/speech-synthesis/\n",
    "\"\"\"\n",
    "\n",
    "import os\n",
    "from google.cloud import texttospeech\n",
    "import pygame\n",
    "import string\n",
    "import configparser\n",
    "\n",
    "\n",
    "\n",
    "# Instantiates a client\n",
    "client = texttospeech.TextToSpeechClient()\n",
    "\n",
    "pygame.mixer.init(frequency=44000)\n",
    "\n",
    "\n",
    "def store_text(text_to_store, filename=None, folder = None):\n",
    "    \n",
    "    folderpath = \"data/sounds/\"+folder\n",
    "    print(folderpath)\n",
    "    if not os.path.exists(folderpath):\n",
    "        os.makedirs(folderpath)\n",
    "\n",
    "    # Set the text input to be synthesized\n",
    "    synthesis_input = texttospeech.types.SynthesisInput(text=text_to_store)\n",
    "\n",
    "    # Build the voice request, select the language code (\"en-US\") and the ssml\n",
    "    # voice gender (\"neutral\")\n",
    "    voice = texttospeech.types.VoiceSelectionParams(\n",
    "        language_code=\"fr-fr\", ssml_gender=texttospeech.enums.SsmlVoiceGender.MALE,name=\"fr-FR-Wavenet-B\"\n",
    "    )\n",
    "\n",
    "    # Select the type of audio file you want returned\n",
    "    audio_config = texttospeech.types.AudioConfig(\n",
    "     speaking_rate=.85,\n",
    "        audio_encoding=texttospeech.enums.AudioEncoding.MP3,\n",
    "    )\n",
    "\n",
    "    # Perform the text-to-speech request on the text input with the selected\n",
    "    # voice parameters and audio file type\n",
    "    response = client.synthesize_speech(synthesis_input, voice, audio_config)\n",
    "    if filename is None:\n",
    "\n",
    "        filename = str(text_to_store)\n",
    "\n",
    "    # The response's audio_content is binary.\n",
    "    with open(\"data/sounds/\" +folder+\"/\" + filename + \".mp3\", \"wb\") as out:\n",
    "\n",
    "        # Write the response to the output file.\n",
    "        out.write(response.audio_content)\n",
    "        print(f\"Audio content written to file {filename}\")\n",
    "\n",
    "\n",
    "def scrap_alphabet():\n",
    "    for letter in string.ascii_lowercase:\n",
    "        store_text(letter)\n",
    "\n",
    "def read_config_file():\n",
    "    config = configparser.ConfigParser()\n",
    "    config.read('../model/text_content.ini')  \n",
    "    \n",
    "def convert_ini_to_json():\n",
    "    pass\n",
    "    \n"
   ]
  },
  {
   "cell_type": "code",
   "execution_count": 2,
   "metadata": {},
   "outputs": [
    {
     "data": {
      "text/plain": [
       "['../model/text_content.ini']"
      ]
     },
     "execution_count": 2,
     "metadata": {},
     "output_type": "execute_result"
    }
   ],
   "source": [
    "config = configparser.ConfigParser()\n",
    "config.read('../model/text_content.ini')"
   ]
  },
  {
   "cell_type": "code",
   "execution_count": 3,
   "metadata": {},
   "outputs": [],
   "source": [
    "import json\n",
    "with open('config.json', 'w') as fp:\n",
    "    json.dump({'data':config._sections}, fp)"
   ]
  },
  {
   "cell_type": "code",
   "execution_count": 4,
   "metadata": {},
   "outputs": [
    {
     "data": {
      "text/plain": [
       "['GREETINGS',\n",
       " 'ANSWERS_OK',\n",
       " 'ANSWERS_NOK',\n",
       " 'INTRO',\n",
       " 'SCORE',\n",
       " 'SCORE_INFOS',\n",
       " 'QUESTIONS']"
      ]
     },
     "execution_count": 4,
     "metadata": {},
     "output_type": "execute_result"
    }
   ],
   "source": [
    "config.sections()"
   ]
  },
  {
   "cell_type": "code",
   "execution_count": 5,
   "metadata": {},
   "outputs": [
    {
     "name": "stdout",
     "output_type": "stream",
     "text": [
      "data/sounds/GREETINGS\n",
      "Audio content written to file bonjour_1\n",
      "data/sounds/GREETINGS\n",
      "Audio content written to file bonjour_2\n",
      "data/sounds/GREETINGS\n",
      "Audio content written to file bonjour_3\n",
      "data/sounds/GREETINGS\n",
      "Audio content written to file bonjour_4\n",
      "data/sounds/GREETINGS\n",
      "Audio content written to file bonjour_5\n",
      "data/sounds/ANSWERS_OK\n",
      "Audio content written to file ok_1\n",
      "data/sounds/ANSWERS_OK\n",
      "Audio content written to file ok_2\n",
      "data/sounds/ANSWERS_OK\n",
      "Audio content written to file ok_3\n",
      "data/sounds/ANSWERS_OK\n",
      "Audio content written to file ok_4\n",
      "data/sounds/ANSWERS_NOK\n",
      "Audio content written to file nok_1\n",
      "data/sounds/ANSWERS_NOK\n",
      "Audio content written to file nok_2\n",
      "data/sounds/ANSWERS_NOK\n",
      "Audio content written to file nok_3\n",
      "data/sounds/ANSWERS_NOK\n",
      "Audio content written to file nok_4\n",
      "data/sounds/ANSWERS_NOK\n",
      "Audio content written to file nok_5\n",
      "data/sounds/INTRO\n",
      "Audio content written to file intro_1\n",
      "data/sounds/INTRO\n",
      "Audio content written to file intro_2\n",
      "data/sounds/INTRO\n",
      "Audio content written to file intro_3\n",
      "data/sounds/INTRO\n",
      "Audio content written to file intro_4\n",
      "data/sounds/SCORE\n",
      "Audio content written to file score_1\n",
      "data/sounds/SCORE\n",
      "Audio content written to file score_2\n",
      "data/sounds/SCORE\n",
      "Audio content written to file score_3\n",
      "data/sounds/SCORE_INFOS\n",
      "Audio content written to file score_infos_1\n",
      "data/sounds/SCORE_INFOS\n",
      "Audio content written to file score_infos_2\n",
      "data/sounds/SCORE_INFOS\n",
      "Audio content written to file score_infos_3\n",
      "data/sounds/QUESTIONS\n",
      "Audio content written to file q_1\n",
      "data/sounds/QUESTIONS\n",
      "Audio content written to file q_2\n",
      "data/sounds/QUESTIONS\n",
      "Audio content written to file q_3\n",
      "data/sounds/QUESTIONS\n",
      "Audio content written to file q_4\n",
      "data/sounds/QUESTIONS\n",
      "Audio content written to file q_5\n",
      "data/sounds/QUESTIONS\n",
      "Audio content written to file q_6\n",
      "data/sounds/QUESTIONS\n",
      "Audio content written to file q_7\n",
      "data/sounds/QUESTIONS\n",
      "Audio content written to file q_8\n",
      "data/sounds/QUESTIONS\n",
      "Audio content written to file q_9\n",
      "data/sounds/QUESTIONS\n",
      "Audio content written to file q_10\n",
      "data/sounds/QUESTIONS\n",
      "Audio content written to file q_11\n",
      "data/sounds/QUESTIONS\n",
      "Audio content written to file q_12\n",
      "data/sounds/QUESTIONS\n",
      "Audio content written to file q_13\n",
      "data/sounds/QUESTIONS\n",
      "Audio content written to file q_14\n",
      "data/sounds/QUESTIONS\n",
      "Audio content written to file q_15\n",
      "data/sounds/QUESTIONS\n",
      "Audio content written to file q_16\n",
      "data/sounds/QUESTIONS\n",
      "Audio content written to file q_17\n",
      "data/sounds/QUESTIONS\n",
      "Audio content written to file q_18\n",
      "data/sounds/QUESTIONS\n",
      "Audio content written to file q_19\n",
      "data/sounds/QUESTIONS\n",
      "Audio content written to file q_20\n",
      "data/sounds/QUESTIONS\n",
      "Audio content written to file q_21\n",
      "data/sounds/QUESTIONS\n",
      "Audio content written to file q_23\n",
      "data/sounds/QUESTIONS\n",
      "Audio content written to file q_24\n",
      "data/sounds/QUESTIONS\n",
      "Audio content written to file q_25\n",
      "data/sounds/QUESTIONS\n",
      "Audio content written to file q_26\n",
      "data/sounds/QUESTIONS\n",
      "Audio content written to file q_27\n",
      "data/sounds/QUESTIONS\n",
      "Audio content written to file q_28\n"
     ]
    }
   ],
   "source": [
    "s = 'GREETINGS'\n",
    "for s in config.sections():\n",
    "    for k,v in config[s].items():\n",
    "        store_text(v,k,s)\n",
    "        #pass"
   ]
  },
  {
   "cell_type": "code",
   "execution_count": null,
   "metadata": {},
   "outputs": [],
   "source": [
    "import os\n",
    "from glob import glob\n",
    "result = [y for x in os.walk('data/sounds') for y in glob(os.path.join(x[0], '*.wav'))]"
   ]
  },
  {
   "cell_type": "code",
   "execution_count": null,
   "metadata": {},
   "outputs": [],
   "source": [
    "import ffmpy\n",
    "def slow_speed(file,speed_ratio):\n",
    "    target_file = file.split('/')[-1]\n",
    "    target_folder = '/'.join(file.split('/')[0:3])\n",
    "    \n",
    "    print(target_file)\n",
    "    print(target_folder)\n",
    "    target_path = target_folder+\"/\"+target_file.split(\".\")[0]+\"_slow.wav\"\n",
    "    print (target_path)\n",
    "    ff = ffmpy.FFmpeg(inputs={file: None}, outputs={target_path: [\"-filter:a\", \"atempo=0.8\"]})\n",
    "    ff.run()\n"
   ]
  },
  {
   "cell_type": "code",
   "execution_count": null,
   "metadata": {},
   "outputs": [],
   "source": [
    "l = result[0].split('/')"
   ]
  },
  {
   "cell_type": "code",
   "execution_count": null,
   "metadata": {},
   "outputs": [],
   "source": [
    "'/'.join(l[0:3])"
   ]
  },
  {
   "cell_type": "code",
   "execution_count": null,
   "metadata": {},
   "outputs": [],
   "source": [
    "slow_speed(result[0],0.8)"
   ]
  },
  {
   "cell_type": "code",
   "execution_count": null,
   "metadata": {},
   "outputs": [],
   "source": [
    "result[0]"
   ]
  },
  {
   "cell_type": "code",
   "execution_count": null,
   "metadata": {},
   "outputs": [],
   "source": [
    "\n",
    "for r in result:\n",
    "    try:\n",
    "        slow_speed(r,0.8)\n",
    "    except :\n",
    "        print(r)"
   ]
  }
 ],
 "metadata": {
  "kernelspec": {
   "display_name": "speak_n_spell",
   "language": "python",
   "name": "speak_n_spell"
  },
  "language_info": {
   "codemirror_mode": {
    "name": "ipython",
    "version": 3
   },
   "file_extension": ".py",
   "mimetype": "text/x-python",
   "name": "python",
   "nbconvert_exporter": "python",
   "pygments_lexer": "ipython3",
   "version": "3.7.1"
  }
 },
 "nbformat": 4,
 "nbformat_minor": 2
}
