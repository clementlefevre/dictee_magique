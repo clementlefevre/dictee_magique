{
 "cells": [
  {
   "cell_type": "code",
   "execution_count": 4,
   "metadata": {},
   "outputs": [
    {
     "name": "stdout",
     "output_type": "stream",
     "text": [
      "['out19.png', 'out9.png', 'out14.png', 'out21.png', 'out10.png', 'out22.png', 'out20.png', 'out5.png', 'out11.png', 'out8.png', 'out18.png', 'out17.png', 'out16.png', 'out6.png', 'out4.png', 'out15.png', 'out7.png', 'out12.png', 'out3.png', 'out1.png', 'out2.png', 'out13.png']\n"
     ]
    }
   ],
   "source": [
    "#!/usr/local/bin/python3\n",
    "from PIL import Image\n",
    "from os import listdir\n",
    "from os.path import isfile, join\n",
    "\n",
    "mypath = 'extracted_pictures/'\n",
    "onlyfiles = [f for f in listdir(mypath) if isfile(join(mypath, f))]\n",
    "onlyfiles = [f for f in onlyfiles if not \"pixelated\" in f]\n",
    "print(onlyfiles)\n",
    "\n",
    "def crop_and_pixelate(filename):\n",
    "    \n",
    "    img = Image.open(mypath +filename)\n",
    "    area = (600, 200, 1400, 1000)\n",
    "    cropped_img = img.crop(area)\n",
    "    # Resize smoothly down to 16x16 pixels\n",
    "    imgSmall = img.resize((128,128),resample=Image.BILINEAR)\n",
    "\n",
    "    # Scale back up using NEAREST to original size\n",
    "    imgSmall = imgSmall.resize((1000,700),Image.NEAREST)\n",
    "\n",
    "\n",
    "    thresh = 200\n",
    "    fn = lambda x : 255 if x > thresh else 0\n",
    "    r = imgSmall.convert('L').point(fn, mode='1')\n",
    "\n",
    "    # Save\n",
    "\n",
    "    r.save(mypath+filename.split('.')[0]+\"_pixelated.png\")\n",
    "    return r\n"
   ]
  },
  {
   "cell_type": "code",
   "execution_count": 14,
   "metadata": {},
   "outputs": [],
   "source": [
    "r = crop_and_pixelate('out19.png')"
   ]
  },
  {
   "cell_type": "code",
   "execution_count": 20,
   "metadata": {},
   "outputs": [
    {
     "data": {
      "text/plain": [
       "(1000, 700)"
      ]
     },
     "execution_count": 20,
     "metadata": {},
     "output_type": "execute_result"
    }
   ],
   "source": [
    "r.size"
   ]
  },
  {
   "cell_type": "code",
   "execution_count": 37,
   "metadata": {},
   "outputs": [],
   "source": [
    "pixdata = r.load()\n",
    "for y in range(r.size[1]):\n",
    "    for x in range(r.size[0]):\n",
    "        if pixdata[x, y] == 0:\n",
    "            pixdata[x, y] = 1\n",
    "r.show()"
   ]
  },
  {
   "cell_type": "code",
   "execution_count": 12,
   "metadata": {},
   "outputs": [],
   "source": [
    "for f in onlyfiles:\n",
    "    crop_and_pixelate(f)"
   ]
  },
  {
   "cell_type": "code",
   "execution_count": 30,
   "metadata": {},
   "outputs": [],
   "source": [
    "\n",
    "import numpy as np\n",
    "\n",
    "# Open input image\n",
    "img = Image.open('extracted_pictures/out10_pixelated.png').convert('RGB')"
   ]
  },
  {
   "cell_type": "code",
   "execution_count": 31,
   "metadata": {},
   "outputs": [],
   "source": [
    "img.show()"
   ]
  },
  {
   "cell_type": "code",
   "execution_count": 52,
   "metadata": {},
   "outputs": [
    {
     "data": {
      "text/plain": [
       "(700, 1000, 3)"
      ]
     },
     "execution_count": 52,
     "metadata": {},
     "output_type": "execute_result"
    }
   ],
   "source": [
    "pixels = img.load() # create the pixel map\n",
    "\n",
    "npa.shape"
   ]
  },
  {
   "cell_type": "code",
   "execution_count": 64,
   "metadata": {},
   "outputs": [
    {
     "name": "stdout",
     "output_type": "stream",
     "text": [
      "[  0 255]\n"
     ]
    },
    {
     "data": {
      "image/png": "[encoded data removed]",
      "text/plain": [
       "<PIL.Image.Image image mode=RGB size=1000x700 at 0x7F0EE542FBE0>"
      ]
     },
     "execution_count": 64,
     "metadata": {},
     "output_type": "execute_result"
    }
   ],
   "source": [
    "npa = np.array(img)\n",
    "\n",
    "print(np.unique(npa))\n",
    "npa.size\n",
    "#npa[:,:,1]=np.where(npa[:,:,1]==255, 0, npa[:,:,1])\n",
    "npa[:,:,2]=np.where(npa[:,:,2]==255, 0, npa[:,:,2])\n",
    "npa[:,:,0]=np.where(npa[:,:,0]==255, 0, npa[:,:,0])\n",
    "Image.fromarray(npa)"
   ]
  }
 ],
 "metadata": {
  "kernelspec": {
   "display_name": "Python 3",
   "language": "python",
   "name": "python3"
  },
  "language_info": {
   "codemirror_mode": {
    "name": "ipython",
    "version": 3
   },
   "file_extension": ".py",
   "mimetype": "text/x-python",
   "name": "python",
   "nbconvert_exporter": "python",
   "pygments_lexer": "ipython3",
   "version": "3.7.1"
  }
 },
 "nbformat": 4,
 "nbformat_minor": 2
}
